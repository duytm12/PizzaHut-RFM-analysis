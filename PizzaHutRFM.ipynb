{
 "cells": [
  {
   "cell_type": "code",
   "execution_count": 1,
   "id": "initial_id",
   "metadata": {
    "collapsed": true,
    "ExecuteTime": {
     "end_time": "2024-04-04T21:02:44.264263Z",
     "start_time": "2024-04-04T21:02:43.370553Z"
    }
   },
   "outputs": [],
   "source": [
    "import pandas as pd\n",
    "pd.set_option('display.float_format', lambda x: '%.2f' % x)\n",
    "import datetime \n",
    "from datetime import datetime"
   ]
  },
  {
   "cell_type": "code",
   "outputs": [
    {
     "data": {
      "text/plain": "         Unnamed: 0   BillID    Channel    OrderFrom  \\\n0                 0        0  Take Away  CALL CENTER   \n1                 1        1  Take Away        STORE   \n2                 2        2  Take Away      WEBSITE   \n3                 3        3  Take Away        STORE   \n4                 4        4   Delivery        STORE   \n...             ...      ...        ...          ...   \n1048570     1048570  1048570   Delivery        STORE   \n1048571     1048571  1048571  Take Away        STORE   \n1048572     1048572  1048572  Take Away      WEBSITE   \n1048573     1048573  1048573  Take Away        STORE   \n1048574     1048574  1048574   Delivery  CALL CENTER   \n\n                   TransactionDate  SalesAmount  CustomerID CustomerGender  \\\n0        2021-10-01 00:00:00+00:00       296891     1753863        Unknown   \n1        2021-10-01 00:00:00+00:00       301782     1124050        Unknown   \n2        2021-10-01 00:00:00+00:00       319792     1626827           Male   \n3        2021-10-01 00:00:00+00:00       424762      125643           Male   \n4        2021-10-01 00:00:00+00:00       280031     2117237        Unknown   \n...                            ...          ...         ...            ...   \n1048570  2023-01-09 00:00:00+00:00       178107     1398136        Unknown   \n1048571  2023-01-09 00:00:00+00:00       331447     2023258        Unknown   \n1048572  2023-01-09 00:00:00+00:00       381509     2041510         Female   \n1048573  2023-01-09 00:00:00+00:00       508205     1927215        Unknown   \n1048574  2023-01-09 00:00:00+00:00       349016      324317           Male   \n\n        VoucherStatus            Province  \n0                  No    Ho Chi Minh City  \n1                  No               Hanoi  \n2                  No               Hanoi  \n3                  No               Hanoi  \n4                  No               Hanoi  \n...               ...                 ...  \n1048570            No  Southern Provinces  \n1048571            No               Hanoi  \n1048572           Yes  Southern Provinces  \n1048573           Yes               Hanoi  \n1048574            No               Hanoi  \n\n[1048575 rows x 10 columns]",
      "text/html": "<div>\n<style scoped>\n    .dataframe tbody tr th:only-of-type {\n        vertical-align: middle;\n    }\n\n    .dataframe tbody tr th {\n        vertical-align: top;\n    }\n\n    .dataframe thead th {\n        text-align: right;\n    }\n</style>\n<table border=\"1\" class=\"dataframe\">\n  <thead>\n    <tr style=\"text-align: right;\">\n      <th></th>\n      <th>Unnamed: 0</th>\n      <th>BillID</th>\n      <th>Channel</th>\n      <th>OrderFrom</th>\n      <th>TransactionDate</th>\n      <th>SalesAmount</th>\n      <th>CustomerID</th>\n      <th>CustomerGender</th>\n      <th>VoucherStatus</th>\n      <th>Province</th>\n    </tr>\n  </thead>\n  <tbody>\n    <tr>\n      <th>0</th>\n      <td>0</td>\n      <td>0</td>\n      <td>Take Away</td>\n      <td>CALL CENTER</td>\n      <td>2021-10-01 00:00:00+00:00</td>\n      <td>296891</td>\n      <td>1753863</td>\n      <td>Unknown</td>\n      <td>No</td>\n      <td>Ho Chi Minh City</td>\n    </tr>\n    <tr>\n      <th>1</th>\n      <td>1</td>\n      <td>1</td>\n      <td>Take Away</td>\n      <td>STORE</td>\n      <td>2021-10-01 00:00:00+00:00</td>\n      <td>301782</td>\n      <td>1124050</td>\n      <td>Unknown</td>\n      <td>No</td>\n      <td>Hanoi</td>\n    </tr>\n    <tr>\n      <th>2</th>\n      <td>2</td>\n      <td>2</td>\n      <td>Take Away</td>\n      <td>WEBSITE</td>\n      <td>2021-10-01 00:00:00+00:00</td>\n      <td>319792</td>\n      <td>1626827</td>\n      <td>Male</td>\n      <td>No</td>\n      <td>Hanoi</td>\n    </tr>\n    <tr>\n      <th>3</th>\n      <td>3</td>\n      <td>3</td>\n      <td>Take Away</td>\n      <td>STORE</td>\n      <td>2021-10-01 00:00:00+00:00</td>\n      <td>424762</td>\n      <td>125643</td>\n      <td>Male</td>\n      <td>No</td>\n      <td>Hanoi</td>\n    </tr>\n    <tr>\n      <th>4</th>\n      <td>4</td>\n      <td>4</td>\n      <td>Delivery</td>\n      <td>STORE</td>\n      <td>2021-10-01 00:00:00+00:00</td>\n      <td>280031</td>\n      <td>2117237</td>\n      <td>Unknown</td>\n      <td>No</td>\n      <td>Hanoi</td>\n    </tr>\n    <tr>\n      <th>...</th>\n      <td>...</td>\n      <td>...</td>\n      <td>...</td>\n      <td>...</td>\n      <td>...</td>\n      <td>...</td>\n      <td>...</td>\n      <td>...</td>\n      <td>...</td>\n      <td>...</td>\n    </tr>\n    <tr>\n      <th>1048570</th>\n      <td>1048570</td>\n      <td>1048570</td>\n      <td>Delivery</td>\n      <td>STORE</td>\n      <td>2023-01-09 00:00:00+00:00</td>\n      <td>178107</td>\n      <td>1398136</td>\n      <td>Unknown</td>\n      <td>No</td>\n      <td>Southern Provinces</td>\n    </tr>\n    <tr>\n      <th>1048571</th>\n      <td>1048571</td>\n      <td>1048571</td>\n      <td>Take Away</td>\n      <td>STORE</td>\n      <td>2023-01-09 00:00:00+00:00</td>\n      <td>331447</td>\n      <td>2023258</td>\n      <td>Unknown</td>\n      <td>No</td>\n      <td>Hanoi</td>\n    </tr>\n    <tr>\n      <th>1048572</th>\n      <td>1048572</td>\n      <td>1048572</td>\n      <td>Take Away</td>\n      <td>WEBSITE</td>\n      <td>2023-01-09 00:00:00+00:00</td>\n      <td>381509</td>\n      <td>2041510</td>\n      <td>Female</td>\n      <td>Yes</td>\n      <td>Southern Provinces</td>\n    </tr>\n    <tr>\n      <th>1048573</th>\n      <td>1048573</td>\n      <td>1048573</td>\n      <td>Take Away</td>\n      <td>STORE</td>\n      <td>2023-01-09 00:00:00+00:00</td>\n      <td>508205</td>\n      <td>1927215</td>\n      <td>Unknown</td>\n      <td>Yes</td>\n      <td>Hanoi</td>\n    </tr>\n    <tr>\n      <th>1048574</th>\n      <td>1048574</td>\n      <td>1048574</td>\n      <td>Delivery</td>\n      <td>CALL CENTER</td>\n      <td>2023-01-09 00:00:00+00:00</td>\n      <td>349016</td>\n      <td>324317</td>\n      <td>Male</td>\n      <td>No</td>\n      <td>Hanoi</td>\n    </tr>\n  </tbody>\n</table>\n<p>1048575 rows × 10 columns</p>\n</div>"
     },
     "execution_count": 2,
     "metadata": {},
     "output_type": "execute_result"
    }
   ],
   "source": [
    "df = pd.read_excel(\"C:\\\\Bi\\\\Win Backup\\\\LongDA\\\\Lvl3\\\\Class4\\\\Round 2 - Data set.xlsx\", sheet_name=\"Purchasing data\")  \n",
    "df"
   ],
   "metadata": {
    "collapsed": false,
    "ExecuteTime": {
     "end_time": "2024-04-04T21:05:10.879083Z",
     "start_time": "2024-04-04T21:02:44.832933Z"
    }
   },
   "id": "ad2bea0fd7435fd9",
   "execution_count": 2
  },
  {
   "cell_type": "code",
   "outputs": [
    {
     "name": "stderr",
     "output_type": "stream",
     "text": [
      "C:\\Users\\duytm\\AppData\\Local\\Temp\\ipykernel_31172\\156369513.py:3: SettingWithCopyWarning: \n",
      "A value is trying to be set on a copy of a slice from a DataFrame.\n",
      "Try using .loc[row_indexer,col_indexer] = value instead\n",
      "\n",
      "See the caveats in the documentation: https://pandas.pydata.org/pandas-docs/stable/user_guide/indexing.html#returning-a-view-versus-a-copy\n",
      "  df['BillID'] = df['BillID'].astype(str)\n",
      "C:\\Users\\duytm\\AppData\\Local\\Temp\\ipykernel_31172\\156369513.py:4: SettingWithCopyWarning: \n",
      "A value is trying to be set on a copy of a slice from a DataFrame.\n",
      "Try using .loc[row_indexer,col_indexer] = value instead\n",
      "\n",
      "See the caveats in the documentation: https://pandas.pydata.org/pandas-docs/stable/user_guide/indexing.html#returning-a-view-versus-a-copy\n",
      "  df['CustomerID'] = df['CustomerID'].astype(str)\n",
      "C:\\Users\\duytm\\AppData\\Local\\Temp\\ipykernel_31172\\156369513.py:5: SettingWithCopyWarning: \n",
      "A value is trying to be set on a copy of a slice from a DataFrame.\n",
      "Try using .loc[row_indexer,col_indexer] = value instead\n",
      "\n",
      "See the caveats in the documentation: https://pandas.pydata.org/pandas-docs/stable/user_guide/indexing.html#returning-a-view-versus-a-copy\n",
      "  df['TransactionDate'] = pd.to_datetime(df['TransactionDate'])\n"
     ]
    },
    {
     "data": {
      "text/plain": "          BillID    Channel    OrderFrom           TransactionDate  \\\n0              0  Take Away  CALL CENTER 2021-10-01 00:00:00+00:00   \n1              1  Take Away        STORE 2021-10-01 00:00:00+00:00   \n2              2  Take Away      WEBSITE 2021-10-01 00:00:00+00:00   \n3              3  Take Away        STORE 2021-10-01 00:00:00+00:00   \n4              4   Delivery        STORE 2021-10-01 00:00:00+00:00   \n...          ...        ...          ...                       ...   \n1048570  1048570   Delivery        STORE 2023-01-09 00:00:00+00:00   \n1048571  1048571  Take Away        STORE 2023-01-09 00:00:00+00:00   \n1048572  1048572  Take Away      WEBSITE 2023-01-09 00:00:00+00:00   \n1048573  1048573  Take Away        STORE 2023-01-09 00:00:00+00:00   \n1048574  1048574   Delivery  CALL CENTER 2023-01-09 00:00:00+00:00   \n\n         SalesAmount CustomerID CustomerGender VoucherStatus  \\\n0             296891    1753863        Unknown            No   \n1             301782    1124050        Unknown            No   \n2             319792    1626827           Male            No   \n3             424762     125643           Male            No   \n4             280031    2117237        Unknown            No   \n...              ...        ...            ...           ...   \n1048570       178107    1398136        Unknown            No   \n1048571       331447    2023258        Unknown            No   \n1048572       381509    2041510         Female           Yes   \n1048573       508205    1927215        Unknown           Yes   \n1048574       349016     324317           Male            No   \n\n                   Province  \n0          Ho Chi Minh City  \n1                     Hanoi  \n2                     Hanoi  \n3                     Hanoi  \n4                     Hanoi  \n...                     ...  \n1048570  Southern Provinces  \n1048571               Hanoi  \n1048572  Southern Provinces  \n1048573               Hanoi  \n1048574               Hanoi  \n\n[1048574 rows x 9 columns]",
      "text/html": "<div>\n<style scoped>\n    .dataframe tbody tr th:only-of-type {\n        vertical-align: middle;\n    }\n\n    .dataframe tbody tr th {\n        vertical-align: top;\n    }\n\n    .dataframe thead th {\n        text-align: right;\n    }\n</style>\n<table border=\"1\" class=\"dataframe\">\n  <thead>\n    <tr style=\"text-align: right;\">\n      <th></th>\n      <th>BillID</th>\n      <th>Channel</th>\n      <th>OrderFrom</th>\n      <th>TransactionDate</th>\n      <th>SalesAmount</th>\n      <th>CustomerID</th>\n      <th>CustomerGender</th>\n      <th>VoucherStatus</th>\n      <th>Province</th>\n    </tr>\n  </thead>\n  <tbody>\n    <tr>\n      <th>0</th>\n      <td>0</td>\n      <td>Take Away</td>\n      <td>CALL CENTER</td>\n      <td>2021-10-01 00:00:00+00:00</td>\n      <td>296891</td>\n      <td>1753863</td>\n      <td>Unknown</td>\n      <td>No</td>\n      <td>Ho Chi Minh City</td>\n    </tr>\n    <tr>\n      <th>1</th>\n      <td>1</td>\n      <td>Take Away</td>\n      <td>STORE</td>\n      <td>2021-10-01 00:00:00+00:00</td>\n      <td>301782</td>\n      <td>1124050</td>\n      <td>Unknown</td>\n      <td>No</td>\n      <td>Hanoi</td>\n    </tr>\n    <tr>\n      <th>2</th>\n      <td>2</td>\n      <td>Take Away</td>\n      <td>WEBSITE</td>\n      <td>2021-10-01 00:00:00+00:00</td>\n      <td>319792</td>\n      <td>1626827</td>\n      <td>Male</td>\n      <td>No</td>\n      <td>Hanoi</td>\n    </tr>\n    <tr>\n      <th>3</th>\n      <td>3</td>\n      <td>Take Away</td>\n      <td>STORE</td>\n      <td>2021-10-01 00:00:00+00:00</td>\n      <td>424762</td>\n      <td>125643</td>\n      <td>Male</td>\n      <td>No</td>\n      <td>Hanoi</td>\n    </tr>\n    <tr>\n      <th>4</th>\n      <td>4</td>\n      <td>Delivery</td>\n      <td>STORE</td>\n      <td>2021-10-01 00:00:00+00:00</td>\n      <td>280031</td>\n      <td>2117237</td>\n      <td>Unknown</td>\n      <td>No</td>\n      <td>Hanoi</td>\n    </tr>\n    <tr>\n      <th>...</th>\n      <td>...</td>\n      <td>...</td>\n      <td>...</td>\n      <td>...</td>\n      <td>...</td>\n      <td>...</td>\n      <td>...</td>\n      <td>...</td>\n      <td>...</td>\n    </tr>\n    <tr>\n      <th>1048570</th>\n      <td>1048570</td>\n      <td>Delivery</td>\n      <td>STORE</td>\n      <td>2023-01-09 00:00:00+00:00</td>\n      <td>178107</td>\n      <td>1398136</td>\n      <td>Unknown</td>\n      <td>No</td>\n      <td>Southern Provinces</td>\n    </tr>\n    <tr>\n      <th>1048571</th>\n      <td>1048571</td>\n      <td>Take Away</td>\n      <td>STORE</td>\n      <td>2023-01-09 00:00:00+00:00</td>\n      <td>331447</td>\n      <td>2023258</td>\n      <td>Unknown</td>\n      <td>No</td>\n      <td>Hanoi</td>\n    </tr>\n    <tr>\n      <th>1048572</th>\n      <td>1048572</td>\n      <td>Take Away</td>\n      <td>WEBSITE</td>\n      <td>2023-01-09 00:00:00+00:00</td>\n      <td>381509</td>\n      <td>2041510</td>\n      <td>Female</td>\n      <td>Yes</td>\n      <td>Southern Provinces</td>\n    </tr>\n    <tr>\n      <th>1048573</th>\n      <td>1048573</td>\n      <td>Take Away</td>\n      <td>STORE</td>\n      <td>2023-01-09 00:00:00+00:00</td>\n      <td>508205</td>\n      <td>1927215</td>\n      <td>Unknown</td>\n      <td>Yes</td>\n      <td>Hanoi</td>\n    </tr>\n    <tr>\n      <th>1048574</th>\n      <td>1048574</td>\n      <td>Delivery</td>\n      <td>CALL CENTER</td>\n      <td>2023-01-09 00:00:00+00:00</td>\n      <td>349016</td>\n      <td>324317</td>\n      <td>Male</td>\n      <td>No</td>\n      <td>Hanoi</td>\n    </tr>\n  </tbody>\n</table>\n<p>1048574 rows × 9 columns</p>\n</div>"
     },
     "execution_count": 3,
     "metadata": {},
     "output_type": "execute_result"
    }
   ],
   "source": [
    "df.drop('Unnamed: 0', axis=1, inplace=True)\n",
    "df = df[(df['CustomerID'] != 0) & (df['CustomerID'] != '')]\n",
    "df['BillID'] = df['BillID'].astype(str)\n",
    "df['CustomerID'] = df['CustomerID'].astype(str)\n",
    "df['TransactionDate'] = pd.to_datetime(df['TransactionDate'])\n",
    "df"
   ],
   "metadata": {
    "collapsed": false,
    "ExecuteTime": {
     "end_time": "2024-04-04T21:05:15.998836Z",
     "start_time": "2024-04-04T21:05:14.453573Z"
    }
   },
   "id": "a612cfedc4fc0d92",
   "execution_count": 3
  },
  {
   "cell_type": "markdown",
   "source": [
    "Descriptive Analytics"
   ],
   "metadata": {
    "collapsed": false
   },
   "id": "bf2267d75ec50195"
  },
  {
   "cell_type": "code",
   "outputs": [
    {
     "data": {
      "text/plain": "583641"
     },
     "execution_count": 4,
     "metadata": {},
     "output_type": "execute_result"
    }
   ],
   "source": [
    "# Total Unique customers:\n",
    "df['CustomerID'].nunique()"
   ],
   "metadata": {
    "collapsed": false,
    "ExecuteTime": {
     "end_time": "2024-04-04T21:05:25.885980Z",
     "start_time": "2024-04-04T21:05:25.671070Z"
    }
   },
   "id": "63a0941371ab664d",
   "execution_count": 4
  },
  {
   "cell_type": "code",
   "outputs": [
    {
     "data": {
      "text/plain": "CustomerGender\nUnknown    634039\nMale       272150\nFemale     142385\nName: count, dtype: int64"
     },
     "execution_count": 5,
     "metadata": {},
     "output_type": "execute_result"
    }
   ],
   "source": [
    "# Genders:\n",
    "df['CustomerGender'].value_counts()"
   ],
   "metadata": {
    "collapsed": false,
    "ExecuteTime": {
     "end_time": "2024-04-04T21:05:28.756925Z",
     "start_time": "2024-04-04T21:05:28.719839Z"
    }
   },
   "id": "8a3b6aeca43166df",
   "execution_count": 5
  },
  {
   "cell_type": "code",
   "outputs": [
    {
     "data": {
      "text/plain": "VoucherStatus\nNo     952451\nYes     96123\nName: count, dtype: int64"
     },
     "execution_count": 6,
     "metadata": {},
     "output_type": "execute_result"
    }
   ],
   "source": [
    "# Voucher usage:\n",
    "df['VoucherStatus'].value_counts()"
   ],
   "metadata": {
    "collapsed": false,
    "ExecuteTime": {
     "end_time": "2024-04-04T21:05:30.576870Z",
     "start_time": "2024-04-04T21:05:30.541727Z"
    }
   },
   "id": "8703dc9cef5bc118",
   "execution_count": 6
  },
  {
   "cell_type": "code",
   "outputs": [
    {
     "data": {
      "text/plain": "Province\nHanoi                 321700\nHo Chi Minh City      304366\nSouthern Provinces    259482\nNothern Provinces     163026\nName: count, dtype: int64"
     },
     "execution_count": 7,
     "metadata": {},
     "output_type": "execute_result"
    }
   ],
   "source": [
    "# Locations:\n",
    "df['Province'].value_counts()"
   ],
   "metadata": {
    "collapsed": false,
    "ExecuteTime": {
     "end_time": "2024-04-04T21:05:31.387633Z",
     "start_time": "2024-04-04T21:05:31.353618Z"
    }
   },
   "id": "84c104c186c0e6b7",
   "execution_count": 7
  },
  {
   "cell_type": "code",
   "outputs": [
    {
     "data": {
      "text/plain": "<Axes: xlabel='Province'>"
     },
     "execution_count": 8,
     "metadata": {},
     "output_type": "execute_result"
    },
    {
     "data": {
      "text/plain": "<Figure size 640x480 with 1 Axes>",
      "image/png": "[encoded data removed]"
     },
     "metadata": {},
     "output_type": "display_data"
    }
   ],
   "source": [
    "# Male Customers by Province:\n",
    "male_province = df[df['CustomerGender']== 'Male'].groupby('Province')['CustomerGender'].count().reset_index()\n",
    "\n",
    "# Female Customers by Province: \n",
    "female_province = df[df['CustomerGender']== 'Female'].groupby('Province')['CustomerGender'].count().reset_index()\n",
    "\n",
    "# Genders by Province:\n",
    "gender_province = male_province.merge(female_province, on = 'Province', how = 'inner')\n",
    "gender_province.rename(columns = {'CustomerGender_x':'Males', 'CustomerGender_y':'Females'}, inplace = True)\n",
    "gender_province.plot(x = 'Province',kind='bar', stacked = None)"
   ],
   "metadata": {
    "collapsed": false,
    "ExecuteTime": {
     "end_time": "2024-04-04T21:05:34.555768Z",
     "start_time": "2024-04-04T21:05:33.655559Z"
    }
   },
   "id": "cb3950cc3e1c1f6e",
   "execution_count": 8
  },
  {
   "cell_type": "code",
   "outputs": [
    {
     "data": {
      "text/plain": "             Province  MalesUseVouchers  MalesDontUseVouchers  \\\n0               Hanoi             18604                 71674   \n1    Ho Chi Minh City             20434                 74148   \n2   Nothern Provinces              4903                 21507   \n3  Southern Provinces             10850                 50030   \n\n   FemalesUseVouchers  FemaleDontUseVouchers  \n0                7725                  35906  \n1               11429                  46110  \n2                1852                   9693  \n3                4758                  24912  ",
      "text/html": "<div>\n<style scoped>\n    .dataframe tbody tr th:only-of-type {\n        vertical-align: middle;\n    }\n\n    .dataframe tbody tr th {\n        vertical-align: top;\n    }\n\n    .dataframe thead th {\n        text-align: right;\n    }\n</style>\n<table border=\"1\" class=\"dataframe\">\n  <thead>\n    <tr style=\"text-align: right;\">\n      <th></th>\n      <th>Province</th>\n      <th>MalesUseVouchers</th>\n      <th>MalesDontUseVouchers</th>\n      <th>FemalesUseVouchers</th>\n      <th>FemaleDontUseVouchers</th>\n    </tr>\n  </thead>\n  <tbody>\n    <tr>\n      <th>0</th>\n      <td>Hanoi</td>\n      <td>18604</td>\n      <td>71674</td>\n      <td>7725</td>\n      <td>35906</td>\n    </tr>\n    <tr>\n      <th>1</th>\n      <td>Ho Chi Minh City</td>\n      <td>20434</td>\n      <td>74148</td>\n      <td>11429</td>\n      <td>46110</td>\n    </tr>\n    <tr>\n      <th>2</th>\n      <td>Nothern Provinces</td>\n      <td>4903</td>\n      <td>21507</td>\n      <td>1852</td>\n      <td>9693</td>\n    </tr>\n    <tr>\n      <th>3</th>\n      <td>Southern Provinces</td>\n      <td>10850</td>\n      <td>50030</td>\n      <td>4758</td>\n      <td>24912</td>\n    </tr>\n  </tbody>\n</table>\n</div>"
     },
     "execution_count": 9,
     "metadata": {},
     "output_type": "execute_result"
    }
   ],
   "source": [
    "# Male Customers who used Vouchers:\n",
    "male_voucher = df[(df['VoucherStatus'] == 'Yes') & (df['CustomerGender'] == 'Male')].groupby('Province')['VoucherStatus'].count().reset_index()\n",
    "male_voucher.rename(columns = {'VoucherStatus':'MalesUseVouchers'}, inplace = True)\n",
    "\n",
    "# Male Customers who did not use Vouchers: \n",
    "male_novoucher = df[(df['VoucherStatus'] == 'No') & (df['CustomerGender'] == 'Male')].groupby('Province')['VoucherStatus'].count().reset_index()\n",
    "male_novoucher.rename(columns = {'VoucherStatus':'MalesDontUseVouchers'}, inplace = True)\n",
    "\n",
    "# Female Customers who used Vouchers:\n",
    "female_voucher = df[(df['VoucherStatus'] == 'Yes') & (df['CustomerGender'] == 'Female')].groupby('Province')['VoucherStatus'].count().reset_index()\n",
    "female_voucher.rename(columns = {'VoucherStatus':'FemalesUseVouchers'}, inplace = True)\n",
    "\n",
    "# Female Customers who did not use Vouchers:\n",
    "female_novoucher = df[(df['VoucherStatus'] == 'No') & (df['CustomerGender'] == 'Female')].groupby('Province')['VoucherStatus'].count().reset_index()\n",
    "female_novoucher.rename(columns = {'VoucherStatus': 'FemaleDontUseVouchers'}, inplace = True)\n",
    "\n",
    "# Merge 4 tables:\n",
    "gender_voucher_province = male_voucher.merge(male_novoucher, on='Province', how='inner').merge(female_voucher, on='Province', how='inner').merge(female_novoucher, on='Province', how = 'inner')\n",
    "gender_voucher_province"
   ],
   "metadata": {
    "collapsed": false,
    "ExecuteTime": {
     "end_time": "2024-04-04T21:06:23.247339Z",
     "start_time": "2024-04-04T21:06:22.516961Z"
    }
   },
   "id": "43ab95f5923d3bd3",
   "execution_count": 9
  },
  {
   "cell_type": "code",
   "outputs": [
    {
     "data": {
      "text/plain": "<Axes: xlabel='Province'>"
     },
     "execution_count": 10,
     "metadata": {},
     "output_type": "execute_result"
    },
    {
     "data": {
      "text/plain": "<Figure size 640x480 with 1 Axes>",
      "image/png": "[encoded data removed]"
     },
     "metadata": {},
     "output_type": "display_data"
    }
   ],
   "source": [
    "gender_voucher_province.plot(x = 'Province', kind='bar', stacked=True)"
   ],
   "metadata": {
    "collapsed": false,
    "ExecuteTime": {
     "end_time": "2024-04-04T21:06:29.010558Z",
     "start_time": "2024-04-04T21:06:28.835935Z"
    }
   },
   "id": "3bca6631bef86371",
   "execution_count": 10
  },
  {
   "cell_type": "markdown",
   "source": [
    "Diagnostic Analytics"
   ],
   "metadata": {
    "collapsed": false
   },
   "id": "807c4987fdaeef70"
  },
  {
   "cell_type": "code",
   "outputs": [
    {
     "data": {
      "text/plain": "          BillID    Channel    OrderFrom           TransactionDate  \\\n0              0  Take Away  CALL CENTER 2021-10-01 00:00:00+00:00   \n1              1  Take Away        STORE 2021-10-01 00:00:00+00:00   \n2              2  Take Away      WEBSITE 2021-10-01 00:00:00+00:00   \n3              3  Take Away        STORE 2021-10-01 00:00:00+00:00   \n4              4   Delivery        STORE 2021-10-01 00:00:00+00:00   \n...          ...        ...          ...                       ...   \n1048570  1048570   Delivery        STORE 2023-01-09 00:00:00+00:00   \n1048571  1048571  Take Away        STORE 2023-01-09 00:00:00+00:00   \n1048572  1048572  Take Away      WEBSITE 2023-01-09 00:00:00+00:00   \n1048573  1048573  Take Away        STORE 2023-01-09 00:00:00+00:00   \n1048574  1048574   Delivery  CALL CENTER 2023-01-09 00:00:00+00:00   \n\n         SalesAmount CustomerID CustomerGender VoucherStatus  \\\n0             296891    1753863        Unknown            No   \n1             301782    1124050        Unknown            No   \n2             319792    1626827           Male            No   \n3             424762     125643           Male            No   \n4             280031    2117237        Unknown            No   \n...              ...        ...            ...           ...   \n1048570       178107    1398136        Unknown            No   \n1048571       331447    2023258        Unknown            No   \n1048572       381509    2041510         Female           Yes   \n1048573       508205    1927215        Unknown           Yes   \n1048574       349016     324317           Male            No   \n\n                   Province  \n0          Ho Chi Minh City  \n1                     Hanoi  \n2                     Hanoi  \n3                     Hanoi  \n4                     Hanoi  \n...                     ...  \n1048570  Southern Provinces  \n1048571               Hanoi  \n1048572  Southern Provinces  \n1048573               Hanoi  \n1048574               Hanoi  \n\n[1048574 rows x 9 columns]",
      "text/html": "<div>\n<style scoped>\n    .dataframe tbody tr th:only-of-type {\n        vertical-align: middle;\n    }\n\n    .dataframe tbody tr th {\n        vertical-align: top;\n    }\n\n    .dataframe thead th {\n        text-align: right;\n    }\n</style>\n<table border=\"1\" class=\"dataframe\">\n  <thead>\n    <tr style=\"text-align: right;\">\n      <th></th>\n      <th>BillID</th>\n      <th>Channel</th>\n      <th>OrderFrom</th>\n      <th>TransactionDate</th>\n      <th>SalesAmount</th>\n      <th>CustomerID</th>\n      <th>CustomerGender</th>\n      <th>VoucherStatus</th>\n      <th>Province</th>\n    </tr>\n  </thead>\n  <tbody>\n    <tr>\n      <th>0</th>\n      <td>0</td>\n      <td>Take Away</td>\n      <td>CALL CENTER</td>\n      <td>2021-10-01 00:00:00+00:00</td>\n      <td>296891</td>\n      <td>1753863</td>\n      <td>Unknown</td>\n      <td>No</td>\n      <td>Ho Chi Minh City</td>\n    </tr>\n    <tr>\n      <th>1</th>\n      <td>1</td>\n      <td>Take Away</td>\n      <td>STORE</td>\n      <td>2021-10-01 00:00:00+00:00</td>\n      <td>301782</td>\n      <td>1124050</td>\n      <td>Unknown</td>\n      <td>No</td>\n      <td>Hanoi</td>\n    </tr>\n    <tr>\n      <th>2</th>\n      <td>2</td>\n      <td>Take Away</td>\n      <td>WEBSITE</td>\n      <td>2021-10-01 00:00:00+00:00</td>\n      <td>319792</td>\n      <td>1626827</td>\n      <td>Male</td>\n      <td>No</td>\n      <td>Hanoi</td>\n    </tr>\n    <tr>\n      <th>3</th>\n      <td>3</td>\n      <td>Take Away</td>\n      <td>STORE</td>\n      <td>2021-10-01 00:00:00+00:00</td>\n      <td>424762</td>\n      <td>125643</td>\n      <td>Male</td>\n      <td>No</td>\n      <td>Hanoi</td>\n    </tr>\n    <tr>\n      <th>4</th>\n      <td>4</td>\n      <td>Delivery</td>\n      <td>STORE</td>\n      <td>2021-10-01 00:00:00+00:00</td>\n      <td>280031</td>\n      <td>2117237</td>\n      <td>Unknown</td>\n      <td>No</td>\n      <td>Hanoi</td>\n    </tr>\n    <tr>\n      <th>...</th>\n      <td>...</td>\n      <td>...</td>\n      <td>...</td>\n      <td>...</td>\n      <td>...</td>\n      <td>...</td>\n      <td>...</td>\n      <td>...</td>\n      <td>...</td>\n    </tr>\n    <tr>\n      <th>1048570</th>\n      <td>1048570</td>\n      <td>Delivery</td>\n      <td>STORE</td>\n      <td>2023-01-09 00:00:00+00:00</td>\n      <td>178107</td>\n      <td>1398136</td>\n      <td>Unknown</td>\n      <td>No</td>\n      <td>Southern Provinces</td>\n    </tr>\n    <tr>\n      <th>1048571</th>\n      <td>1048571</td>\n      <td>Take Away</td>\n      <td>STORE</td>\n      <td>2023-01-09 00:00:00+00:00</td>\n      <td>331447</td>\n      <td>2023258</td>\n      <td>Unknown</td>\n      <td>No</td>\n      <td>Hanoi</td>\n    </tr>\n    <tr>\n      <th>1048572</th>\n      <td>1048572</td>\n      <td>Take Away</td>\n      <td>WEBSITE</td>\n      <td>2023-01-09 00:00:00+00:00</td>\n      <td>381509</td>\n      <td>2041510</td>\n      <td>Female</td>\n      <td>Yes</td>\n      <td>Southern Provinces</td>\n    </tr>\n    <tr>\n      <th>1048573</th>\n      <td>1048573</td>\n      <td>Take Away</td>\n      <td>STORE</td>\n      <td>2023-01-09 00:00:00+00:00</td>\n      <td>508205</td>\n      <td>1927215</td>\n      <td>Unknown</td>\n      <td>Yes</td>\n      <td>Hanoi</td>\n    </tr>\n    <tr>\n      <th>1048574</th>\n      <td>1048574</td>\n      <td>Delivery</td>\n      <td>CALL CENTER</td>\n      <td>2023-01-09 00:00:00+00:00</td>\n      <td>349016</td>\n      <td>324317</td>\n      <td>Male</td>\n      <td>No</td>\n      <td>Hanoi</td>\n    </tr>\n  </tbody>\n</table>\n<p>1048574 rows × 9 columns</p>\n</div>"
     },
     "execution_count": 11,
     "metadata": {},
     "output_type": "execute_result"
    }
   ],
   "source": [
    "df"
   ],
   "metadata": {
    "collapsed": false,
    "ExecuteTime": {
     "end_time": "2024-04-04T21:06:31.903225Z",
     "start_time": "2024-04-04T21:06:31.889673Z"
    }
   },
   "id": "8c8cbe5e8034d778",
   "execution_count": 11
  },
  {
   "cell_type": "code",
   "outputs": [
    {
     "data": {
      "text/plain": "       CustomerID           TransactionDate\n0               1 2022-03-07 00:00:00+00:00\n1           10000 2023-01-07 00:00:00+00:00\n2         1000000 2021-11-07 00:00:00+00:00\n3         1000001 2022-06-18 00:00:00+00:00\n4         1000003 2022-12-25 00:00:00+00:00\n...           ...                       ...\n583636      99998 2022-03-06 00:00:00+00:00\n583637     999984 2022-01-05 00:00:00+00:00\n583638     999985 2022-07-01 00:00:00+00:00\n583639     999987 2021-11-01 00:00:00+00:00\n583640     999993 2022-09-30 00:00:00+00:00\n\n[583641 rows x 2 columns]",
      "text/html": "<div>\n<style scoped>\n    .dataframe tbody tr th:only-of-type {\n        vertical-align: middle;\n    }\n\n    .dataframe tbody tr th {\n        vertical-align: top;\n    }\n\n    .dataframe thead th {\n        text-align: right;\n    }\n</style>\n<table border=\"1\" class=\"dataframe\">\n  <thead>\n    <tr style=\"text-align: right;\">\n      <th></th>\n      <th>CustomerID</th>\n      <th>TransactionDate</th>\n    </tr>\n  </thead>\n  <tbody>\n    <tr>\n      <th>0</th>\n      <td>1</td>\n      <td>2022-03-07 00:00:00+00:00</td>\n    </tr>\n    <tr>\n      <th>1</th>\n      <td>10000</td>\n      <td>2023-01-07 00:00:00+00:00</td>\n    </tr>\n    <tr>\n      <th>2</th>\n      <td>1000000</td>\n      <td>2021-11-07 00:00:00+00:00</td>\n    </tr>\n    <tr>\n      <th>3</th>\n      <td>1000001</td>\n      <td>2022-06-18 00:00:00+00:00</td>\n    </tr>\n    <tr>\n      <th>4</th>\n      <td>1000003</td>\n      <td>2022-12-25 00:00:00+00:00</td>\n    </tr>\n    <tr>\n      <th>...</th>\n      <td>...</td>\n      <td>...</td>\n    </tr>\n    <tr>\n      <th>583636</th>\n      <td>99998</td>\n      <td>2022-03-06 00:00:00+00:00</td>\n    </tr>\n    <tr>\n      <th>583637</th>\n      <td>999984</td>\n      <td>2022-01-05 00:00:00+00:00</td>\n    </tr>\n    <tr>\n      <th>583638</th>\n      <td>999985</td>\n      <td>2022-07-01 00:00:00+00:00</td>\n    </tr>\n    <tr>\n      <th>583639</th>\n      <td>999987</td>\n      <td>2021-11-01 00:00:00+00:00</td>\n    </tr>\n    <tr>\n      <th>583640</th>\n      <td>999993</td>\n      <td>2022-09-30 00:00:00+00:00</td>\n    </tr>\n  </tbody>\n</table>\n<p>583641 rows × 2 columns</p>\n</div>"
     },
     "execution_count": 13,
     "metadata": {},
     "output_type": "execute_result"
    }
   ],
   "source": [
    "R = df.groupby('CustomerID')['TransactionDate'].max().reset_index()\n",
    "R"
   ],
   "metadata": {
    "collapsed": false,
    "ExecuteTime": {
     "end_time": "2024-04-04T21:06:42.217Z",
     "start_time": "2024-04-04T21:06:40.553723Z"
    }
   },
   "id": "4b5a41dff2bc3512",
   "execution_count": 13
  },
  {
   "cell_type": "code",
   "outputs": [
    {
     "data": {
      "text/plain": "       CustomerID TransactionDate  DateDiff\n0               1      2022-03-07       759\n1           10000      2023-01-07       453\n2         1000000      2021-11-07       879\n3         1000001      2022-06-18       656\n4         1000003      2022-12-25       466\n...           ...             ...       ...\n583636      99998      2022-03-06       760\n583637     999984      2022-01-05       820\n583638     999985      2022-07-01       643\n583639     999987      2021-11-01       885\n583640     999993      2022-09-30       552\n\n[583641 rows x 3 columns]",
      "text/html": "<div>\n<style scoped>\n    .dataframe tbody tr th:only-of-type {\n        vertical-align: middle;\n    }\n\n    .dataframe tbody tr th {\n        vertical-align: top;\n    }\n\n    .dataframe thead th {\n        text-align: right;\n    }\n</style>\n<table border=\"1\" class=\"dataframe\">\n  <thead>\n    <tr style=\"text-align: right;\">\n      <th></th>\n      <th>CustomerID</th>\n      <th>TransactionDate</th>\n      <th>DateDiff</th>\n    </tr>\n  </thead>\n  <tbody>\n    <tr>\n      <th>0</th>\n      <td>1</td>\n      <td>2022-03-07</td>\n      <td>759</td>\n    </tr>\n    <tr>\n      <th>1</th>\n      <td>10000</td>\n      <td>2023-01-07</td>\n      <td>453</td>\n    </tr>\n    <tr>\n      <th>2</th>\n      <td>1000000</td>\n      <td>2021-11-07</td>\n      <td>879</td>\n    </tr>\n    <tr>\n      <th>3</th>\n      <td>1000001</td>\n      <td>2022-06-18</td>\n      <td>656</td>\n    </tr>\n    <tr>\n      <th>4</th>\n      <td>1000003</td>\n      <td>2022-12-25</td>\n      <td>466</td>\n    </tr>\n    <tr>\n      <th>...</th>\n      <td>...</td>\n      <td>...</td>\n      <td>...</td>\n    </tr>\n    <tr>\n      <th>583636</th>\n      <td>99998</td>\n      <td>2022-03-06</td>\n      <td>760</td>\n    </tr>\n    <tr>\n      <th>583637</th>\n      <td>999984</td>\n      <td>2022-01-05</td>\n      <td>820</td>\n    </tr>\n    <tr>\n      <th>583638</th>\n      <td>999985</td>\n      <td>2022-07-01</td>\n      <td>643</td>\n    </tr>\n    <tr>\n      <th>583639</th>\n      <td>999987</td>\n      <td>2021-11-01</td>\n      <td>885</td>\n    </tr>\n    <tr>\n      <th>583640</th>\n      <td>999993</td>\n      <td>2022-09-30</td>\n      <td>552</td>\n    </tr>\n  </tbody>\n</table>\n<p>583641 rows × 3 columns</p>\n</div>"
     },
     "execution_count": 14,
     "metadata": {},
     "output_type": "execute_result"
    }
   ],
   "source": [
    "today = pd.Timestamp(datetime.today().date())  # Get today's date\n",
    "R['TransactionDate'] = R['TransactionDate'].dt.tz_convert(None)\n",
    "R['DateDiff'] = (today - R['TransactionDate']).dt.days\n",
    "R"
   ],
   "metadata": {
    "collapsed": false,
    "ExecuteTime": {
     "end_time": "2024-04-04T21:06:47.956694Z",
     "start_time": "2024-04-04T21:06:47.906713Z"
    }
   },
   "id": "373a2920d246a17a",
   "execution_count": 14
  },
  {
   "cell_type": "code",
   "outputs": [],
   "source": [
    "R['R'] = R['DateDiff'].apply(lambda x : 4 if x <= 552 \n",
    "                             else  3 if 552 <= x < 668\n",
    "                                    else 2 if 668 <= x < 787\n",
    "                                          else 1)"
   ],
   "metadata": {
    "collapsed": false,
    "ExecuteTime": {
     "end_time": "2024-04-04T21:06:54.993362Z",
     "start_time": "2024-04-04T21:06:54.784962Z"
    }
   },
   "id": "5e17f85c40ae5425",
   "execution_count": 15
  },
  {
   "cell_type": "code",
   "outputs": [
    {
     "data": {
      "text/plain": "       CustomerID  R\n0               1  2\n1           10000  4\n2         1000000  1\n3         1000001  3\n4         1000003  4\n...           ... ..\n583636      99998  2\n583637     999984  1\n583638     999985  3\n583639     999987  1\n583640     999993  4\n\n[583641 rows x 2 columns]",
      "text/html": "<div>\n<style scoped>\n    .dataframe tbody tr th:only-of-type {\n        vertical-align: middle;\n    }\n\n    .dataframe tbody tr th {\n        vertical-align: top;\n    }\n\n    .dataframe thead th {\n        text-align: right;\n    }\n</style>\n<table border=\"1\" class=\"dataframe\">\n  <thead>\n    <tr style=\"text-align: right;\">\n      <th></th>\n      <th>CustomerID</th>\n      <th>R</th>\n    </tr>\n  </thead>\n  <tbody>\n    <tr>\n      <th>0</th>\n      <td>1</td>\n      <td>2</td>\n    </tr>\n    <tr>\n      <th>1</th>\n      <td>10000</td>\n      <td>4</td>\n    </tr>\n    <tr>\n      <th>2</th>\n      <td>1000000</td>\n      <td>1</td>\n    </tr>\n    <tr>\n      <th>3</th>\n      <td>1000001</td>\n      <td>3</td>\n    </tr>\n    <tr>\n      <th>4</th>\n      <td>1000003</td>\n      <td>4</td>\n    </tr>\n    <tr>\n      <th>...</th>\n      <td>...</td>\n      <td>...</td>\n    </tr>\n    <tr>\n      <th>583636</th>\n      <td>99998</td>\n      <td>2</td>\n    </tr>\n    <tr>\n      <th>583637</th>\n      <td>999984</td>\n      <td>1</td>\n    </tr>\n    <tr>\n      <th>583638</th>\n      <td>999985</td>\n      <td>3</td>\n    </tr>\n    <tr>\n      <th>583639</th>\n      <td>999987</td>\n      <td>1</td>\n    </tr>\n    <tr>\n      <th>583640</th>\n      <td>999993</td>\n      <td>4</td>\n    </tr>\n  </tbody>\n</table>\n<p>583641 rows × 2 columns</p>\n</div>"
     },
     "execution_count": 16,
     "metadata": {},
     "output_type": "execute_result"
    }
   ],
   "source": [
    "R = R[['CustomerID','R']]\n",
    "R"
   ],
   "metadata": {
    "collapsed": false,
    "ExecuteTime": {
     "end_time": "2024-04-04T21:06:58.271217Z",
     "start_time": "2024-04-04T21:06:58.240685Z"
    }
   },
   "id": "8b5d11cf14b470ab",
   "execution_count": 16
  },
  {
   "cell_type": "code",
   "outputs": [
    {
     "data": {
      "text/plain": "       CustomerID  BillID\n0               1       1\n1           10000       1\n2         1000000       1\n3         1000001       5\n4         1000003       1\n...           ...     ...\n583636      99998       1\n583637     999984       1\n583638     999985       1\n583639     999987       1\n583640     999993       2\n\n[583641 rows x 2 columns]",
      "text/html": "<div>\n<style scoped>\n    .dataframe tbody tr th:only-of-type {\n        vertical-align: middle;\n    }\n\n    .dataframe tbody tr th {\n        vertical-align: top;\n    }\n\n    .dataframe thead th {\n        text-align: right;\n    }\n</style>\n<table border=\"1\" class=\"dataframe\">\n  <thead>\n    <tr style=\"text-align: right;\">\n      <th></th>\n      <th>CustomerID</th>\n      <th>BillID</th>\n    </tr>\n  </thead>\n  <tbody>\n    <tr>\n      <th>0</th>\n      <td>1</td>\n      <td>1</td>\n    </tr>\n    <tr>\n      <th>1</th>\n      <td>10000</td>\n      <td>1</td>\n    </tr>\n    <tr>\n      <th>2</th>\n      <td>1000000</td>\n      <td>1</td>\n    </tr>\n    <tr>\n      <th>3</th>\n      <td>1000001</td>\n      <td>5</td>\n    </tr>\n    <tr>\n      <th>4</th>\n      <td>1000003</td>\n      <td>1</td>\n    </tr>\n    <tr>\n      <th>...</th>\n      <td>...</td>\n      <td>...</td>\n    </tr>\n    <tr>\n      <th>583636</th>\n      <td>99998</td>\n      <td>1</td>\n    </tr>\n    <tr>\n      <th>583637</th>\n      <td>999984</td>\n      <td>1</td>\n    </tr>\n    <tr>\n      <th>583638</th>\n      <td>999985</td>\n      <td>1</td>\n    </tr>\n    <tr>\n      <th>583639</th>\n      <td>999987</td>\n      <td>1</td>\n    </tr>\n    <tr>\n      <th>583640</th>\n      <td>999993</td>\n      <td>2</td>\n    </tr>\n  </tbody>\n</table>\n<p>583641 rows × 2 columns</p>\n</div>"
     },
     "execution_count": 17,
     "metadata": {},
     "output_type": "execute_result"
    }
   ],
   "source": [
    "F = df.groupby('CustomerID')['BillID'].count().reset_index()\n",
    "F"
   ],
   "metadata": {
    "collapsed": false,
    "ExecuteTime": {
     "end_time": "2024-04-04T21:07:04.348746Z",
     "start_time": "2024-04-04T21:07:02.473716Z"
    }
   },
   "id": "49523d50cbb38efc",
   "execution_count": 17
  },
  {
   "cell_type": "code",
   "outputs": [
    {
     "data": {
      "text/plain": "       CustomerID  F\n0               1  1\n1           10000  1\n2         1000000  1\n3         1000001  3\n4         1000003  1\n...           ... ..\n583636      99998  1\n583637     999984  1\n583638     999985  1\n583639     999987  1\n583640     999993  2\n\n[583641 rows x 2 columns]",
      "text/html": "<div>\n<style scoped>\n    .dataframe tbody tr th:only-of-type {\n        vertical-align: middle;\n    }\n\n    .dataframe tbody tr th {\n        vertical-align: top;\n    }\n\n    .dataframe thead th {\n        text-align: right;\n    }\n</style>\n<table border=\"1\" class=\"dataframe\">\n  <thead>\n    <tr style=\"text-align: right;\">\n      <th></th>\n      <th>CustomerID</th>\n      <th>F</th>\n    </tr>\n  </thead>\n  <tbody>\n    <tr>\n      <th>0</th>\n      <td>1</td>\n      <td>1</td>\n    </tr>\n    <tr>\n      <th>1</th>\n      <td>10000</td>\n      <td>1</td>\n    </tr>\n    <tr>\n      <th>2</th>\n      <td>1000000</td>\n      <td>1</td>\n    </tr>\n    <tr>\n      <th>3</th>\n      <td>1000001</td>\n      <td>3</td>\n    </tr>\n    <tr>\n      <th>4</th>\n      <td>1000003</td>\n      <td>1</td>\n    </tr>\n    <tr>\n      <th>...</th>\n      <td>...</td>\n      <td>...</td>\n    </tr>\n    <tr>\n      <th>583636</th>\n      <td>99998</td>\n      <td>1</td>\n    </tr>\n    <tr>\n      <th>583637</th>\n      <td>999984</td>\n      <td>1</td>\n    </tr>\n    <tr>\n      <th>583638</th>\n      <td>999985</td>\n      <td>1</td>\n    </tr>\n    <tr>\n      <th>583639</th>\n      <td>999987</td>\n      <td>1</td>\n    </tr>\n    <tr>\n      <th>583640</th>\n      <td>999993</td>\n      <td>2</td>\n    </tr>\n  </tbody>\n</table>\n<p>583641 rows × 2 columns</p>\n</div>"
     },
     "execution_count": 18,
     "metadata": {},
     "output_type": "execute_result"
    }
   ],
   "source": [
    "F['F'] = F['BillID'].apply(lambda x: 3 if x > 2\n",
    "                           else (2 if 2 >= x > 1\n",
    "                                 else 1))\n",
    "F = F[['CustomerID','F']]\n",
    "F"
   ],
   "metadata": {
    "collapsed": false,
    "ExecuteTime": {
     "end_time": "2024-04-04T21:07:21.543606Z",
     "start_time": "2024-04-04T21:07:21.340674Z"
    }
   },
   "id": "c4957e2b28be1034",
   "execution_count": 18
  },
  {
   "cell_type": "code",
   "outputs": [
    {
     "data": {
      "text/plain": "       CustomerID  SalesAmount\n0               1       105503\n1           10000       145127\n2         1000000       190147\n3         1000001      2416216\n4         1000003       370559\n...           ...          ...\n583636      99998       159653\n583637     999984       176064\n583638     999985       415034\n583639     999987       168534\n583640     999993       368945\n\n[583641 rows x 2 columns]",
      "text/html": "<div>\n<style scoped>\n    .dataframe tbody tr th:only-of-type {\n        vertical-align: middle;\n    }\n\n    .dataframe tbody tr th {\n        vertical-align: top;\n    }\n\n    .dataframe thead th {\n        text-align: right;\n    }\n</style>\n<table border=\"1\" class=\"dataframe\">\n  <thead>\n    <tr style=\"text-align: right;\">\n      <th></th>\n      <th>CustomerID</th>\n      <th>SalesAmount</th>\n    </tr>\n  </thead>\n  <tbody>\n    <tr>\n      <th>0</th>\n      <td>1</td>\n      <td>105503</td>\n    </tr>\n    <tr>\n      <th>1</th>\n      <td>10000</td>\n      <td>145127</td>\n    </tr>\n    <tr>\n      <th>2</th>\n      <td>1000000</td>\n      <td>190147</td>\n    </tr>\n    <tr>\n      <th>3</th>\n      <td>1000001</td>\n      <td>2416216</td>\n    </tr>\n    <tr>\n      <th>4</th>\n      <td>1000003</td>\n      <td>370559</td>\n    </tr>\n    <tr>\n      <th>...</th>\n      <td>...</td>\n      <td>...</td>\n    </tr>\n    <tr>\n      <th>583636</th>\n      <td>99998</td>\n      <td>159653</td>\n    </tr>\n    <tr>\n      <th>583637</th>\n      <td>999984</td>\n      <td>176064</td>\n    </tr>\n    <tr>\n      <th>583638</th>\n      <td>999985</td>\n      <td>415034</td>\n    </tr>\n    <tr>\n      <th>583639</th>\n      <td>999987</td>\n      <td>168534</td>\n    </tr>\n    <tr>\n      <th>583640</th>\n      <td>999993</td>\n      <td>368945</td>\n    </tr>\n  </tbody>\n</table>\n<p>583641 rows × 2 columns</p>\n</div>"
     },
     "execution_count": 19,
     "metadata": {},
     "output_type": "execute_result"
    }
   ],
   "source": [
    "M = df.groupby('CustomerID')['SalesAmount'].sum().reset_index()\n",
    "M"
   ],
   "metadata": {
    "collapsed": false,
    "ExecuteTime": {
     "end_time": "2024-04-04T21:07:28.736689Z",
     "start_time": "2024-04-04T21:07:27.056649Z"
    }
   },
   "id": "fb3177f597aae480",
   "execution_count": 19
  },
  {
   "cell_type": "code",
   "outputs": [
    {
     "data": {
      "text/plain": "       CustomerID  M\n0               1  1\n1           10000  1\n2         1000000  1\n3         1000001  4\n4         1000003  3\n...           ... ..\n583636      99998  1\n583637     999984  1\n583638     999985  3\n583639     999987  1\n583640     999993  3\n\n[583641 rows x 2 columns]",
      "text/html": "<div>\n<style scoped>\n    .dataframe tbody tr th:only-of-type {\n        vertical-align: middle;\n    }\n\n    .dataframe tbody tr th {\n        vertical-align: top;\n    }\n\n    .dataframe thead th {\n        text-align: right;\n    }\n</style>\n<table border=\"1\" class=\"dataframe\">\n  <thead>\n    <tr style=\"text-align: right;\">\n      <th></th>\n      <th>CustomerID</th>\n      <th>M</th>\n    </tr>\n  </thead>\n  <tbody>\n    <tr>\n      <th>0</th>\n      <td>1</td>\n      <td>1</td>\n    </tr>\n    <tr>\n      <th>1</th>\n      <td>10000</td>\n      <td>1</td>\n    </tr>\n    <tr>\n      <th>2</th>\n      <td>1000000</td>\n      <td>1</td>\n    </tr>\n    <tr>\n      <th>3</th>\n      <td>1000001</td>\n      <td>4</td>\n    </tr>\n    <tr>\n      <th>4</th>\n      <td>1000003</td>\n      <td>3</td>\n    </tr>\n    <tr>\n      <th>...</th>\n      <td>...</td>\n      <td>...</td>\n    </tr>\n    <tr>\n      <th>583636</th>\n      <td>99998</td>\n      <td>1</td>\n    </tr>\n    <tr>\n      <th>583637</th>\n      <td>999984</td>\n      <td>1</td>\n    </tr>\n    <tr>\n      <th>583638</th>\n      <td>999985</td>\n      <td>3</td>\n    </tr>\n    <tr>\n      <th>583639</th>\n      <td>999987</td>\n      <td>1</td>\n    </tr>\n    <tr>\n      <th>583640</th>\n      <td>999993</td>\n      <td>3</td>\n    </tr>\n  </tbody>\n</table>\n<p>583641 rows × 2 columns</p>\n</div>"
     },
     "execution_count": 20,
     "metadata": {},
     "output_type": "execute_result"
    }
   ],
   "source": [
    "M['M'] = M['SalesAmount'].apply(lambda x : 4 if x >=567483\n",
    "                                else 3 if 567483 > x >= 311816\n",
    "                                      else 2 if 311816 > x >= 201289\n",
    "                                            else 1)\n",
    "M = M[['CustomerID','M']]\n",
    "M"
   ],
   "metadata": {
    "collapsed": false,
    "ExecuteTime": {
     "end_time": "2024-04-04T21:07:43.006714Z",
     "start_time": "2024-04-04T21:07:42.799164Z"
    }
   },
   "id": "c7d6886354f7bd5c",
   "execution_count": 20
  },
  {
   "cell_type": "code",
   "outputs": [
    {
     "data": {
      "text/plain": "       CustomerID  R  F  M\n0               1  2  1  1\n1           10000  4  1  1\n2         1000000  1  1  1\n3         1000001  3  3  4\n4         1000003  4  1  3\n...           ... .. .. ..\n583636      99998  2  1  1\n583637     999984  1  1  1\n583638     999985  3  1  3\n583639     999987  1  1  1\n583640     999993  4  2  3\n\n[583641 rows x 4 columns]",
      "text/html": "<div>\n<style scoped>\n    .dataframe tbody tr th:only-of-type {\n        vertical-align: middle;\n    }\n\n    .dataframe tbody tr th {\n        vertical-align: top;\n    }\n\n    .dataframe thead th {\n        text-align: right;\n    }\n</style>\n<table border=\"1\" class=\"dataframe\">\n  <thead>\n    <tr style=\"text-align: right;\">\n      <th></th>\n      <th>CustomerID</th>\n      <th>R</th>\n      <th>F</th>\n      <th>M</th>\n    </tr>\n  </thead>\n  <tbody>\n    <tr>\n      <th>0</th>\n      <td>1</td>\n      <td>2</td>\n      <td>1</td>\n      <td>1</td>\n    </tr>\n    <tr>\n      <th>1</th>\n      <td>10000</td>\n      <td>4</td>\n      <td>1</td>\n      <td>1</td>\n    </tr>\n    <tr>\n      <th>2</th>\n      <td>1000000</td>\n      <td>1</td>\n      <td>1</td>\n      <td>1</td>\n    </tr>\n    <tr>\n      <th>3</th>\n      <td>1000001</td>\n      <td>3</td>\n      <td>3</td>\n      <td>4</td>\n    </tr>\n    <tr>\n      <th>4</th>\n      <td>1000003</td>\n      <td>4</td>\n      <td>1</td>\n      <td>3</td>\n    </tr>\n    <tr>\n      <th>...</th>\n      <td>...</td>\n      <td>...</td>\n      <td>...</td>\n      <td>...</td>\n    </tr>\n    <tr>\n      <th>583636</th>\n      <td>99998</td>\n      <td>2</td>\n      <td>1</td>\n      <td>1</td>\n    </tr>\n    <tr>\n      <th>583637</th>\n      <td>999984</td>\n      <td>1</td>\n      <td>1</td>\n      <td>1</td>\n    </tr>\n    <tr>\n      <th>583638</th>\n      <td>999985</td>\n      <td>3</td>\n      <td>1</td>\n      <td>3</td>\n    </tr>\n    <tr>\n      <th>583639</th>\n      <td>999987</td>\n      <td>1</td>\n      <td>1</td>\n      <td>1</td>\n    </tr>\n    <tr>\n      <th>583640</th>\n      <td>999993</td>\n      <td>4</td>\n      <td>2</td>\n      <td>3</td>\n    </tr>\n  </tbody>\n</table>\n<p>583641 rows × 4 columns</p>\n</div>"
     },
     "execution_count": 21,
     "metadata": {},
     "output_type": "execute_result"
    }
   ],
   "source": [
    "RFM = R.merge(F, on='CustomerID', how = 'inner').merge(M, on = 'CustomerID', how = 'inner')\n",
    "RFM"
   ],
   "metadata": {
    "collapsed": false,
    "ExecuteTime": {
     "end_time": "2024-04-04T21:07:52.239253Z",
     "start_time": "2024-04-04T21:07:51.013725Z"
    }
   },
   "id": "82f9d6513a129406",
   "execution_count": 21
  },
  {
   "cell_type": "code",
   "outputs": [
    {
     "data": {
      "text/plain": "       CustomerID  R  F  M  RFM\n0               1  2  1  1  211\n1           10000  4  1  1  411\n2         1000000  1  1  1  111\n3         1000001  3  3  4  334\n4         1000003  4  1  3  413\n...           ... .. .. ..  ...\n583636      99998  2  1  1  211\n583637     999984  1  1  1  111\n583638     999985  3  1  3  313\n583639     999987  1  1  1  111\n583640     999993  4  2  3  423\n\n[583641 rows x 5 columns]",
      "text/html": "<div>\n<style scoped>\n    .dataframe tbody tr th:only-of-type {\n        vertical-align: middle;\n    }\n\n    .dataframe tbody tr th {\n        vertical-align: top;\n    }\n\n    .dataframe thead th {\n        text-align: right;\n    }\n</style>\n<table border=\"1\" class=\"dataframe\">\n  <thead>\n    <tr style=\"text-align: right;\">\n      <th></th>\n      <th>CustomerID</th>\n      <th>R</th>\n      <th>F</th>\n      <th>M</th>\n      <th>RFM</th>\n    </tr>\n  </thead>\n  <tbody>\n    <tr>\n      <th>0</th>\n      <td>1</td>\n      <td>2</td>\n      <td>1</td>\n      <td>1</td>\n      <td>211</td>\n    </tr>\n    <tr>\n      <th>1</th>\n      <td>10000</td>\n      <td>4</td>\n      <td>1</td>\n      <td>1</td>\n      <td>411</td>\n    </tr>\n    <tr>\n      <th>2</th>\n      <td>1000000</td>\n      <td>1</td>\n      <td>1</td>\n      <td>1</td>\n      <td>111</td>\n    </tr>\n    <tr>\n      <th>3</th>\n      <td>1000001</td>\n      <td>3</td>\n      <td>3</td>\n      <td>4</td>\n      <td>334</td>\n    </tr>\n    <tr>\n      <th>4</th>\n      <td>1000003</td>\n      <td>4</td>\n      <td>1</td>\n      <td>3</td>\n      <td>413</td>\n    </tr>\n    <tr>\n      <th>...</th>\n      <td>...</td>\n      <td>...</td>\n      <td>...</td>\n      <td>...</td>\n      <td>...</td>\n    </tr>\n    <tr>\n      <th>583636</th>\n      <td>99998</td>\n      <td>2</td>\n      <td>1</td>\n      <td>1</td>\n      <td>211</td>\n    </tr>\n    <tr>\n      <th>583637</th>\n      <td>999984</td>\n      <td>1</td>\n      <td>1</td>\n      <td>1</td>\n      <td>111</td>\n    </tr>\n    <tr>\n      <th>583638</th>\n      <td>999985</td>\n      <td>3</td>\n      <td>1</td>\n      <td>3</td>\n      <td>313</td>\n    </tr>\n    <tr>\n      <th>583639</th>\n      <td>999987</td>\n      <td>1</td>\n      <td>1</td>\n      <td>1</td>\n      <td>111</td>\n    </tr>\n    <tr>\n      <th>583640</th>\n      <td>999993</td>\n      <td>4</td>\n      <td>2</td>\n      <td>3</td>\n      <td>423</td>\n    </tr>\n  </tbody>\n</table>\n<p>583641 rows × 5 columns</p>\n</div>"
     },
     "execution_count": 22,
     "metadata": {},
     "output_type": "execute_result"
    }
   ],
   "source": [
    "RFM['RFM'] = RFM[['R','F','M']].apply(lambda x: ''.join(map(str,x)), axis = 1)\n",
    "RFM"
   ],
   "metadata": {
    "collapsed": false,
    "ExecuteTime": {
     "end_time": "2024-04-04T21:07:57.340408Z",
     "start_time": "2024-04-04T21:07:53.691349Z"
    }
   },
   "id": "8f8dc551dabfad18",
   "execution_count": 22
  },
  {
   "cell_type": "code",
   "outputs": [
    {
     "data": {
      "text/plain": "RFM\n112    46780\n434    45703\n111    43642\n211    39335\n212    38682\n113    34684\n311    33343\n312    31172\n213    27871\n411    26778\n313    24220\n334    22531\n412    21932\n413    18685\n424    12502\n324    12350\n323    10544\n234    10354\n423     9865\n223     9291\n224     9169\n214     6792\n114     6442\n314     6398\n414     5705\n123     5406\n124     5337\n134     2628\n433     2250\n422     2028\n322     1747\n222     1691\n333     1620\n233     1088\n122     1012\n421      687\n221      681\n321      620\n121      475\n133      386\n432      328\n332      238\n232      202\n231      121\n132       98\n331       97\n431       82\n131       49\nName: count, dtype: int64"
     },
     "execution_count": 23,
     "metadata": {},
     "output_type": "execute_result"
    }
   ],
   "source": [
    "RFM['RFM'] = RFM['RFM'].astype(int)\n",
    "RFM['RFM'].value_counts()"
   ],
   "metadata": {
    "collapsed": false,
    "ExecuteTime": {
     "end_time": "2024-04-04T21:08:00.617257Z",
     "start_time": "2024-04-04T21:08:00.559734Z"
    }
   },
   "id": "48a91c710d4c5876",
   "execution_count": 23
  },
  {
   "cell_type": "code",
   "outputs": [],
   "source": [
    "RFM['Segmentation'] = RFM['RFM'].apply(lambda x: 'Potential Customer' if x == 213\n",
    "                    else ('VIP' if x == 434\n",
    "                          else('Lost Customer' if x == 111\n",
    "                               else('Need Attention Customer' if x == 212\n",
    "                                    else('Loyal Customer' if x in (311,312,411)\n",
    "                                         else 'Normal Customer')))))"
   ],
   "metadata": {
    "collapsed": false,
    "ExecuteTime": {
     "end_time": "2024-04-04T21:08:07.466456Z",
     "start_time": "2024-04-04T21:08:07.347225Z"
    }
   },
   "id": "eccc3b50d4b8c74c",
   "execution_count": 24
  },
  {
   "cell_type": "code",
   "outputs": [
    {
     "data": {
      "text/plain": "       CustomerID  R  F  M  RFM     Segmentation\n0               1  2  1  1  211  Normal Customer\n1           10000  4  1  1  411   Loyal Customer\n2         1000000  1  1  1  111    Lost Customer\n3         1000001  3  3  4  334  Normal Customer\n4         1000003  4  1  3  413  Normal Customer\n...           ... .. .. ..  ...              ...\n583636      99998  2  1  1  211  Normal Customer\n583637     999984  1  1  1  111    Lost Customer\n583638     999985  3  1  3  313  Normal Customer\n583639     999987  1  1  1  111    Lost Customer\n583640     999993  4  2  3  423  Normal Customer\n\n[583641 rows x 6 columns]",
      "text/html": "<div>\n<style scoped>\n    .dataframe tbody tr th:only-of-type {\n        vertical-align: middle;\n    }\n\n    .dataframe tbody tr th {\n        vertical-align: top;\n    }\n\n    .dataframe thead th {\n        text-align: right;\n    }\n</style>\n<table border=\"1\" class=\"dataframe\">\n  <thead>\n    <tr style=\"text-align: right;\">\n      <th></th>\n      <th>CustomerID</th>\n      <th>R</th>\n      <th>F</th>\n      <th>M</th>\n      <th>RFM</th>\n      <th>Segmentation</th>\n    </tr>\n  </thead>\n  <tbody>\n    <tr>\n      <th>0</th>\n      <td>1</td>\n      <td>2</td>\n      <td>1</td>\n      <td>1</td>\n      <td>211</td>\n      <td>Normal Customer</td>\n    </tr>\n    <tr>\n      <th>1</th>\n      <td>10000</td>\n      <td>4</td>\n      <td>1</td>\n      <td>1</td>\n      <td>411</td>\n      <td>Loyal Customer</td>\n    </tr>\n    <tr>\n      <th>2</th>\n      <td>1000000</td>\n      <td>1</td>\n      <td>1</td>\n      <td>1</td>\n      <td>111</td>\n      <td>Lost Customer</td>\n    </tr>\n    <tr>\n      <th>3</th>\n      <td>1000001</td>\n      <td>3</td>\n      <td>3</td>\n      <td>4</td>\n      <td>334</td>\n      <td>Normal Customer</td>\n    </tr>\n    <tr>\n      <th>4</th>\n      <td>1000003</td>\n      <td>4</td>\n      <td>1</td>\n      <td>3</td>\n      <td>413</td>\n      <td>Normal Customer</td>\n    </tr>\n    <tr>\n      <th>...</th>\n      <td>...</td>\n      <td>...</td>\n      <td>...</td>\n      <td>...</td>\n      <td>...</td>\n      <td>...</td>\n    </tr>\n    <tr>\n      <th>583636</th>\n      <td>99998</td>\n      <td>2</td>\n      <td>1</td>\n      <td>1</td>\n      <td>211</td>\n      <td>Normal Customer</td>\n    </tr>\n    <tr>\n      <th>583637</th>\n      <td>999984</td>\n      <td>1</td>\n      <td>1</td>\n      <td>1</td>\n      <td>111</td>\n      <td>Lost Customer</td>\n    </tr>\n    <tr>\n      <th>583638</th>\n      <td>999985</td>\n      <td>3</td>\n      <td>1</td>\n      <td>3</td>\n      <td>313</td>\n      <td>Normal Customer</td>\n    </tr>\n    <tr>\n      <th>583639</th>\n      <td>999987</td>\n      <td>1</td>\n      <td>1</td>\n      <td>1</td>\n      <td>111</td>\n      <td>Lost Customer</td>\n    </tr>\n    <tr>\n      <th>583640</th>\n      <td>999993</td>\n      <td>4</td>\n      <td>2</td>\n      <td>3</td>\n      <td>423</td>\n      <td>Normal Customer</td>\n    </tr>\n  </tbody>\n</table>\n<p>583641 rows × 6 columns</p>\n</div>"
     },
     "execution_count": 25,
     "metadata": {},
     "output_type": "execute_result"
    }
   ],
   "source": [
    "RFM"
   ],
   "metadata": {
    "collapsed": false,
    "ExecuteTime": {
     "end_time": "2024-04-04T21:08:10.998057Z",
     "start_time": "2024-04-04T21:08:10.987700Z"
    }
   },
   "id": "39e79654dd627b56",
   "execution_count": 25
  },
  {
   "cell_type": "code",
   "outputs": [
    {
     "data": {
      "text/plain": "Segmentation\nNormal Customer            336450\nLoyal Customer              91293\nVIP                         45703\nLost Customer               43642\nNeed Attention Customer     38682\nPotential Customer          27871\nName: count, dtype: int64"
     },
     "execution_count": 26,
     "metadata": {},
     "output_type": "execute_result"
    }
   ],
   "source": [
    "RFM['Segmentation'].value_counts()"
   ],
   "metadata": {
    "collapsed": false,
    "ExecuteTime": {
     "end_time": "2024-04-04T21:08:12.885749Z",
     "start_time": "2024-04-04T21:08:12.857500Z"
    }
   },
   "id": "2d39f12950a269fb",
   "execution_count": 26
  },
  {
   "cell_type": "code",
   "outputs": [
    {
     "data": {
      "text/plain": "       CustomerID  R  F  M  RFM     Segmentation  SalesAmount\n0               1  2  1  1  211  Normal Customer       105503\n1           10000  4  1  1  411   Loyal Customer       145127\n2         1000000  1  1  1  111    Lost Customer       190147\n3         1000001  3  3  4  334  Normal Customer      2416216\n4         1000003  4  1  3  413  Normal Customer       370559\n...           ... .. .. ..  ...              ...          ...\n583636      99998  2  1  1  211  Normal Customer       159653\n583637     999984  1  1  1  111    Lost Customer       176064\n583638     999985  3  1  3  313  Normal Customer       415034\n583639     999987  1  1  1  111    Lost Customer       168534\n583640     999993  4  2  3  423  Normal Customer       368945\n\n[583641 rows x 7 columns]",
      "text/html": "<div>\n<style scoped>\n    .dataframe tbody tr th:only-of-type {\n        vertical-align: middle;\n    }\n\n    .dataframe tbody tr th {\n        vertical-align: top;\n    }\n\n    .dataframe thead th {\n        text-align: right;\n    }\n</style>\n<table border=\"1\" class=\"dataframe\">\n  <thead>\n    <tr style=\"text-align: right;\">\n      <th></th>\n      <th>CustomerID</th>\n      <th>R</th>\n      <th>F</th>\n      <th>M</th>\n      <th>RFM</th>\n      <th>Segmentation</th>\n      <th>SalesAmount</th>\n    </tr>\n  </thead>\n  <tbody>\n    <tr>\n      <th>0</th>\n      <td>1</td>\n      <td>2</td>\n      <td>1</td>\n      <td>1</td>\n      <td>211</td>\n      <td>Normal Customer</td>\n      <td>105503</td>\n    </tr>\n    <tr>\n      <th>1</th>\n      <td>10000</td>\n      <td>4</td>\n      <td>1</td>\n      <td>1</td>\n      <td>411</td>\n      <td>Loyal Customer</td>\n      <td>145127</td>\n    </tr>\n    <tr>\n      <th>2</th>\n      <td>1000000</td>\n      <td>1</td>\n      <td>1</td>\n      <td>1</td>\n      <td>111</td>\n      <td>Lost Customer</td>\n      <td>190147</td>\n    </tr>\n    <tr>\n      <th>3</th>\n      <td>1000001</td>\n      <td>3</td>\n      <td>3</td>\n      <td>4</td>\n      <td>334</td>\n      <td>Normal Customer</td>\n      <td>2416216</td>\n    </tr>\n    <tr>\n      <th>4</th>\n      <td>1000003</td>\n      <td>4</td>\n      <td>1</td>\n      <td>3</td>\n      <td>413</td>\n      <td>Normal Customer</td>\n      <td>370559</td>\n    </tr>\n    <tr>\n      <th>...</th>\n      <td>...</td>\n      <td>...</td>\n      <td>...</td>\n      <td>...</td>\n      <td>...</td>\n      <td>...</td>\n      <td>...</td>\n    </tr>\n    <tr>\n      <th>583636</th>\n      <td>99998</td>\n      <td>2</td>\n      <td>1</td>\n      <td>1</td>\n      <td>211</td>\n      <td>Normal Customer</td>\n      <td>159653</td>\n    </tr>\n    <tr>\n      <th>583637</th>\n      <td>999984</td>\n      <td>1</td>\n      <td>1</td>\n      <td>1</td>\n      <td>111</td>\n      <td>Lost Customer</td>\n      <td>176064</td>\n    </tr>\n    <tr>\n      <th>583638</th>\n      <td>999985</td>\n      <td>3</td>\n      <td>1</td>\n      <td>3</td>\n      <td>313</td>\n      <td>Normal Customer</td>\n      <td>415034</td>\n    </tr>\n    <tr>\n      <th>583639</th>\n      <td>999987</td>\n      <td>1</td>\n      <td>1</td>\n      <td>1</td>\n      <td>111</td>\n      <td>Lost Customer</td>\n      <td>168534</td>\n    </tr>\n    <tr>\n      <th>583640</th>\n      <td>999993</td>\n      <td>4</td>\n      <td>2</td>\n      <td>3</td>\n      <td>423</td>\n      <td>Normal Customer</td>\n      <td>368945</td>\n    </tr>\n  </tbody>\n</table>\n<p>583641 rows × 7 columns</p>\n</div>"
     },
     "execution_count": 27,
     "metadata": {},
     "output_type": "execute_result"
    }
   ],
   "source": [
    "segment_monetary = RFM.merge(df.groupby('CustomerID')['SalesAmount'].sum().reset_index(), on = 'CustomerID', how = 'inner')\n",
    "segment_monetary"
   ],
   "metadata": {
    "collapsed": false,
    "ExecuteTime": {
     "end_time": "2024-04-04T21:08:22.438002Z",
     "start_time": "2024-04-04T21:08:19.682181Z"
    }
   },
   "id": "fc7b87b676f5b4e0",
   "execution_count": 27
  },
  {
   "cell_type": "code",
   "outputs": [
    {
     "data": {
      "text/plain": "              Segmentation   SalesAmount\n0            Lost Customer    6161719978\n1           Loyal Customer   16162185089\n2  Need Attention Customer    9814822788\n3          Normal Customer  183273037891\n4       Potential Customer   10921519208\n5                      VIP   93347697807",
      "text/html": "<div>\n<style scoped>\n    .dataframe tbody tr th:only-of-type {\n        vertical-align: middle;\n    }\n\n    .dataframe tbody tr th {\n        vertical-align: top;\n    }\n\n    .dataframe thead th {\n        text-align: right;\n    }\n</style>\n<table border=\"1\" class=\"dataframe\">\n  <thead>\n    <tr style=\"text-align: right;\">\n      <th></th>\n      <th>Segmentation</th>\n      <th>SalesAmount</th>\n    </tr>\n  </thead>\n  <tbody>\n    <tr>\n      <th>0</th>\n      <td>Lost Customer</td>\n      <td>6161719978</td>\n    </tr>\n    <tr>\n      <th>1</th>\n      <td>Loyal Customer</td>\n      <td>16162185089</td>\n    </tr>\n    <tr>\n      <th>2</th>\n      <td>Need Attention Customer</td>\n      <td>9814822788</td>\n    </tr>\n    <tr>\n      <th>3</th>\n      <td>Normal Customer</td>\n      <td>183273037891</td>\n    </tr>\n    <tr>\n      <th>4</th>\n      <td>Potential Customer</td>\n      <td>10921519208</td>\n    </tr>\n    <tr>\n      <th>5</th>\n      <td>VIP</td>\n      <td>93347697807</td>\n    </tr>\n  </tbody>\n</table>\n</div>"
     },
     "execution_count": 28,
     "metadata": {},
     "output_type": "execute_result"
    }
   ],
   "source": [
    "segment_monetary = segment_monetary.groupby('Segmentation')['SalesAmount'].sum().reset_index()\n",
    "segment_monetary "
   ],
   "metadata": {
    "collapsed": false,
    "ExecuteTime": {
     "end_time": "2024-04-04T21:08:38.041878Z",
     "start_time": "2024-04-04T21:08:37.971380Z"
    }
   },
   "id": "b54930594aab643c",
   "execution_count": 28
  },
  {
   "cell_type": "code",
   "outputs": [
    {
     "data": {
      "text/plain": "<Axes: xlabel='Segmentation'>"
     },
     "execution_count": 29,
     "metadata": {},
     "output_type": "execute_result"
    },
    {
     "data": {
      "text/plain": "<Figure size 640x480 with 1 Axes>",
      "image/png": "[encoded data removed]"
     },
     "metadata": {},
     "output_type": "display_data"
    }
   ],
   "source": [
    "segment_monetary.plot(x = 'Segmentation',kind = 'bar', stacked = None)"
   ],
   "metadata": {
    "collapsed": false,
    "ExecuteTime": {
     "end_time": "2024-04-04T21:08:52.645094Z",
     "start_time": "2024-04-04T21:08:52.502984Z"
    }
   },
   "id": "d92a7b3bdaaa6dbc",
   "execution_count": 29
  }
 ],
 "metadata": {
  "kernelspec": {
   "display_name": "Python 3",
   "language": "python",
   "name": "python3"
  },
  "language_info": {
   "codemirror_mode": {
    "name": "ipython",
    "version": 2
   },
   "file_extension": ".py",
   "mimetype": "text/x-python",
   "name": "python",
   "nbconvert_exporter": "python",
   "pygments_lexer": "ipython2",
   "version": "2.7.6"
  }
 },
 "nbformat": 4,
 "nbformat_minor": 5
}
